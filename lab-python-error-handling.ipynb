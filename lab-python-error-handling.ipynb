{
 "cells": [
  {
   "cell_type": "markdown",
   "id": "25d7736c-ba17-4aff-b6bb-66eba20fbf4e",
   "metadata": {},
   "source": [
    "# Lab | Error Handling"
   ]
  },
  {
   "cell_type": "markdown",
   "id": "6f8e446f-16b4-4e21-92e7-9d3d1eb551b6",
   "metadata": {},
   "source": [
    "Objective: Practice how to identify, handle and recover from potential errors in Python code using try-except blocks."
   ]
  },
  {
   "cell_type": "markdown",
   "id": "e253e768-aed8-4791-a800-87add1204afa",
   "metadata": {},
   "source": [
    "## Challenge \n",
    "\n",
    "Paste here your lab *functions* solutions. Apply error handling techniques to each function using try-except blocks. "
   ]
  },
  {
   "cell_type": "markdown",
   "id": "9180ff86-c3fe-4152-a609-081a287fa1af",
   "metadata": {},
   "source": [
    "The try-except block in Python is designed to handle exceptions and provide a fallback mechanism when code encounters errors. By enclosing the code that could potentially throw errors in a try block, followed by specific or general exception handling in the except block, we can gracefully recover from errors and continue program execution.\n",
    "\n",
    "However, there may be cases where an input may not produce an immediate error, but still needs to be addressed. In such situations, it can be useful to explicitly raise an error using the \"raise\" keyword, either to draw attention to the issue or handle it elsewhere in the program.\n",
    "\n",
    "Modify the code to handle possible errors in Python, it is recommended to use `try-except-else-finally` blocks, incorporate the `raise` keyword where necessary, and print meaningful error messages to alert users of any issues that may occur during program execution.\n",
    "\n"
   ]
  },
  {
   "cell_type": "code",
   "execution_count": null,
   "id": "cc2c441d-9dcf-4817-b097-cf6cbe440846",
   "metadata": {},
   "outputs": [
    {
     "name": "stdout",
     "output_type": "stream",
     "text": [
      "Choose the quantity of each product\n",
      "Choose the quantity of mug\n"
     ]
    }
   ],
   "source": [
    "products = [\"mug\", \"hat\", \"book\"]\n",
    "\n",
    "def initialize_inventory(products):\n",
    "    print (\"Choose the quantity of each product\")\n",
    "    inventory = {}\n",
    "\n",
    "    for i in products:\n",
    "        valid_input = False\n",
    "        while not valid_input:\n",
    "            try : \n",
    "                \n",
    "                print(f\"Choose the quantity of {i}\")\n",
    "                product = int(input(\"Enter the quantity :\"))\n",
    "\n",
    "                if product >= 0:\n",
    "                    inventory[i] = product\n",
    "                    valid_input = True\n",
    "                else :\n",
    "                    raise ValueError (\"Please enter a positif number\")\n",
    "\n",
    "            except ValueError as e:\n",
    "                print (f\"Error : {e}\")\n",
    "        \n",
    "\n",
    "    return inventory\n",
    "\n",
    "inventory = initialize_inventory(products)\n",
    "\n",
    "\n",
    "def get_customer_orders():\n",
    "    num = False\n",
    "    while not num :\n",
    "        \n",
    "        try :\n",
    "            number = int(input(\"Enter the number of customer_orders\"))\n",
    "\n",
    "            if number > 0 :\n",
    "                num = True\n",
    "            if number < 0:\n",
    "                raise ValueError (\"Please enter a positif number\")\n",
    "        \n",
    "     \n",
    "        except ValueError as e:\n",
    "            print (f\"Error : {e}\")\n",
    "\n",
    "\n",
    "        \n",
    "    customer_orders = {}\n",
    "\n",
    "    for i in range (1, number + 1):\n",
    "        product = False\n",
    "        while not product :\n",
    "            try :\n",
    "                prod = str(input(f\"choose product {i} : \"))  \n",
    "             \n",
    "                if prod in inventory:\n",
    "                    product = True\n",
    "                    qty = False\n",
    "                    while not qty :\n",
    "                        try : \n",
    "                            qté = int(input(\"choose a quantity : \"))\n",
    "\n",
    "                            if qté <= inventory[prod]:\n",
    "                                qty = True\n",
    "                            else:\n",
    "                                raise ValueError (f\"You can't ask more than : {inventory[prod]}\")\n",
    "                                \n",
    "                        except ValueError as e:\n",
    "                            print (f\"Error : {e}\")\n",
    "                \n",
    "                    customer_orders[prod] = qté\n",
    "                    \n",
    "                else:\n",
    "                    raise ValueError (\"Product not found in the available products.\")\n",
    "                    \n",
    "            except ValueError as e:\n",
    "                print(f\"Error : {e}\")\n",
    "    \n",
    "    return customer_orders\n",
    "       \n",
    "customer_orders = get_customer_orders()\n",
    "print (customer_orders)\n",
    "print (inventory)\n",
    "       "
   ]
  },
  {
   "cell_type": "code",
   "execution_count": 65,
   "id": "b807e03c-98d4-42f0-bc63-b3768ce08699",
   "metadata": {},
   "outputs": [
    {
     "name": "stdin",
     "output_type": "stream",
     "text": [
      "Nombre 1 :  m\n"
     ]
    },
    {
     "name": "stdout",
     "output_type": "stream",
     "text": [
      "Error : invalid literal for int() with base 10: 'm'\n",
      "Block executed\n"
     ]
    },
    {
     "name": "stdin",
     "output_type": "stream",
     "text": [
      "Nombre 1 :  8\n",
      "Nombre 2 : m\n"
     ]
    },
    {
     "name": "stdout",
     "output_type": "stream",
     "text": [
      "Error : invalid literal for int() with base 10: 'm'\n",
      "Block executed\n"
     ]
    },
    {
     "name": "stdin",
     "output_type": "stream",
     "text": [
      "Nombre 1 :  8\n",
      "Nombre 2 : 18\n",
      "Operateur *\n"
     ]
    },
    {
     "name": "stdout",
     "output_type": "stream",
     "text": [
      "The result = 144\n",
      "Block executed\n"
     ]
    }
   ],
   "source": []
  },
  {
   "cell_type": "code",
   "execution_count": null,
   "id": "93be0af7-d714-4546-9e7e-f9cee7354126",
   "metadata": {},
   "outputs": [],
   "source": []
  }
 ],
 "metadata": {
  "kernelspec": {
   "display_name": "Python 3 (ipykernel)",
   "language": "python",
   "name": "python3"
  },
  "language_info": {
   "codemirror_mode": {
    "name": "ipython",
    "version": 3
   },
   "file_extension": ".py",
   "mimetype": "text/x-python",
   "name": "python",
   "nbconvert_exporter": "python",
   "pygments_lexer": "ipython3",
   "version": "3.12.7"
  }
 },
 "nbformat": 4,
 "nbformat_minor": 5
}
